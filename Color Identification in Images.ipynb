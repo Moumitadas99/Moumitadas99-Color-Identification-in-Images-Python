{
 "cells": [
  {
   "cell_type": "markdown",
   "id": "b8a0d4d4",
   "metadata": {},
   "source": [
    "# Color Identification in Images"
   ]
  },
  {
   "cell_type": "markdown",
   "id": "4f18f712",
   "metadata": {},
   "source": [
    " Implement an image color detector which identifies all the colors in an image"
   ]
  },
  {
   "cell_type": "markdown",
   "id": "881a4acf",
   "metadata": {},
   "source": [
    "### Author: Moumita Das"
   ]
  },
  {
   "cell_type": "markdown",
   "id": "5c6c290a",
   "metadata": {},
   "source": [
    "### Import Libraries"
   ]
  },
  {
   "cell_type": "code",
   "execution_count": 1,
   "id": "2d5d5a93",
   "metadata": {},
   "outputs": [],
   "source": [
    "#libraries used\n",
    "import cv2\n",
    "import pandas as pd\n"
   ]
  },
  {
   "cell_type": "code",
   "execution_count": 2,
   "id": "d989bd29",
   "metadata": {},
   "outputs": [],
   "source": [
    "#read the image\n",
    "\n",
    "img = cv2.imread('colorp.jpg')\n"
   ]
  },
  {
   "cell_type": "code",
   "execution_count": 4,
   "id": "0822ab9c",
   "metadata": {},
   "outputs": [],
   "source": [
    "#declaring global values\n",
    "\n",
    "clicked = False\n",
    "r = g = b = x_pos = y_pos = 0"
   ]
  },
  {
   "cell_type": "code",
   "execution_count": 5,
   "id": "8b4d6700",
   "metadata": {},
   "outputs": [],
   "source": [
    "#read csv file with pandas and give the name of all the columns\n",
    "\n",
    "index = [\"color\", \"color_name\", \"hex\", \"R\",\"G\", \"B\"]\n",
    "df = pd.read_csv('colors.csv', names=index, header=None)"
   ]
  },
  {
   "cell_type": "code",
   "execution_count": 6,
   "id": "290efe61",
   "metadata": {},
   "outputs": [],
   "source": [
    "# function to calculate minimum distance from all colors and get the most matching color\n",
    "\n",
    "def get_color_name(R, G, B):\n",
    "    minimum = 10000\n",
    "    for i in range(len(df)):\n",
    "        d = abs(R - int(df.loc[i, \"R\"])) + abs(G - int(df.loc[i, \"G\"])) + abs(B - int(df.loc[i, \"B\"]))\n",
    "        if d <= minimum:\n",
    "            minimum = d\n",
    "            cname = df.loc[i, \"color_name\"]\n",
    "    return cname\n"
   ]
  },
  {
   "cell_type": "code",
   "execution_count": 7,
   "id": "e6347b83",
   "metadata": {},
   "outputs": [],
   "source": [
    "# function to get x,y coordinates of mouse double click\n",
    "\n",
    "def draw_function(event, x, y, flags, param):\n",
    "    if event == cv2.EVENT_LBUTTONDBLCLK:\n",
    "        global b, g, r, x_pos, y_pos, clicked\n",
    "        clicked = True\n",
    "        x_pos = x\n",
    "        y_pos = y\n",
    "        b, g, r = img[y, x]\n",
    "        b = int(b)\n",
    "        g = int(g)\n",
    "        r = int(r)"
   ]
  },
  {
   "cell_type": "code",
   "execution_count": 8,
   "id": "80e0cd04",
   "metadata": {},
   "outputs": [],
   "source": [
    "#set the name of window and set the mouse click\n",
    "\n",
    "cv2.namedWindow('image')\n",
    "cv2.setMouseCallback('image', draw_function)"
   ]
  },
  {
   "cell_type": "code",
   "execution_count": 9,
   "id": "18b6deae",
   "metadata": {},
   "outputs": [],
   "source": [
    "while True:\n",
    "\n",
    "    cv2.imshow(\"image\", img)\n",
    "    if clicked:\n",
    "\n",
    "        #cv2.rectangle(image, start point, endpoint, color, thickness)-1 fills entire rectangle\n",
    "            \n",
    "        cv2.rectangle(img, (20, 20), (750, 60), (b, g, r), -1)\n",
    "        \n",
    "        \n",
    "        # Creating text string to display( Color name and RGB values)\n",
    "        \n",
    "        text = get_color_name(r, g, b) + ' R=' + str(r) + ' G=' + str(g) + ' B=' + str(b)\n",
    "\n",
    "       \n",
    "        # cv2.putText(img,text,start,font(0-7),fontScale,color,thickness,lineType)\n",
    "        \n",
    "        cv2.putText(img, text, (50, 50), 2, 0.8, (255, 255, 255), 2, cv2.LINE_AA)\n",
    "        \n",
    "\n",
    "        # For very light colours we will display text in black colour\n",
    "        if r + g + b >= 600:\n",
    "            cv2.putText(img, text, (50, 50), 2, 0.8, (0, 0, 0), 2, cv2.LINE_AA)\n",
    "\n",
    "        clicked = False\n",
    "        \n",
    "\n",
    "    #to break out of the loop when user hits 'esc' key\n",
    "    \n",
    "    if cv2.waitKey(20) & 0xFF == 27:\n",
    "        break\n",
    "\n",
    "cv2.destroyAllWindows()"
   ]
  },
  {
   "cell_type": "markdown",
   "id": "5e5d08ff",
   "metadata": {},
   "source": [
    "### Thank You!!\n",
    "\n",
    "#### Moumita Das"
   ]
  }
 ],
 "metadata": {
  "kernelspec": {
   "display_name": "Python 3",
   "language": "python",
   "name": "python3"
  },
  "language_info": {
   "codemirror_mode": {
    "name": "ipython",
    "version": 3
   },
   "file_extension": ".py",
   "mimetype": "text/x-python",
   "name": "python",
   "nbconvert_exporter": "python",
   "pygments_lexer": "ipython3",
   "version": "3.8.8"
  }
 },
 "nbformat": 4,
 "nbformat_minor": 5
}
